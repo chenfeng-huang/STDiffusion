{
 "cells": [
  {
   "cell_type": "markdown",
   "metadata": {},
   "source": [
    "# Context-FID Score Presentation\n",
    "## Necessary packages and functions call\n",
    "\n",
    "- Context-FID score: A useful metric measures how well the the synthetic time series windows ”fit” into the local context of the time series"
   ]
  },
  {
   "cell_type": "code",
   "execution_count": 94,
   "metadata": {},
   "outputs": [],
   "source": [
    "import os\n",
    "import torch\n",
    "import numpy as np\n",
    "import sys\n",
    "sys.path.append(os.path.join(os.path.dirname('__file__'), '../'))\n",
    "from context_fid import Context_FID\n",
    "from metric_utils import display_scores\n",
    "from cross_correlation import CrossCorrelLoss"
   ]
  },
  {
   "cell_type": "markdown",
   "metadata": {},
   "source": [
    "## Data Loading\n",
    "\n",
    "Load original dataset and preprocess the loaded data."
   ]
  },
  {
   "cell_type": "code",
   "execution_count": 95,
   "metadata": {},
   "outputs": [],
   "source": [
    "iterations = 5\n",
    "data_name = 'exchange_rate'\n",
    "ori_data = np.load(f'../generated_datasets/real_data_npy/{data_name}.npy')\n",
    "#ori_data = np.load(f'../generated_datasets/real_data_npy/etth_norm_truth_24_train.npy')\n",
    "fake_data = np.load(f'../generated_datasets/model_{data_name}_generate_uncond_256.npy')\n",
    "#fake_data = np.load(f'../generated_datasets/ddpm_fake_{data_name}_256.npy')\n",
    "#fake_data = np.load(f'../generated_datasets/diffwave5_{data_name}.npy')[:len(ori_data), :, :]\n",
    "ori_data = ori_data[:len(fake_data), :, :]"
   ]
  },
  {
   "cell_type": "markdown",
   "metadata": {},
   "source": [
    "## Context-FID Score\n",
    "\n",
    "- The Frechet Inception distance-like score is based on unsupervised time series embeddings. It is able to score the fit of the fixed length synthetic samples into their context of (often much longer) true time series.\n",
    "\n",
    "- The lowest scoring models correspond to the best performing models in downstream tasks"
   ]
  },
  {
   "cell_type": "code",
   "execution_count": 96,
   "metadata": {},
   "outputs": [
    {
     "name": "stdout",
     "output_type": "stream",
     "text": [
      "Iter 0:  context-fid = 0.24455920239250656 \n",
      "\n",
      "Iter 1:  context-fid = 0.21162498476432476 \n",
      "\n",
      "Iter 2:  context-fid = 0.20565367053121048 \n",
      "\n",
      "Iter 3:  context-fid = 0.16374985935323177 \n",
      "\n",
      "Iter 4:  context-fid = 0.21516183264673971 \n",
      "\n",
      "Final Score:  0.20814990993760266 ± 0.03601080065513005\n"
     ]
    }
   ],
   "source": [
    "context_fid_score = []\n",
    "\n",
    "for i in range(iterations):\n",
    "    context_fid = Context_FID(ori_data[:], fake_data[:ori_data.shape[0]])\n",
    "    context_fid_score.append(context_fid)\n",
    "    print(f'Iter {i}: ', 'context-fid =', context_fid, '\\n')\n",
    "      \n",
    "display_scores(context_fid_score)"
   ]
  },
  {
   "cell_type": "markdown",
   "metadata": {},
   "source": [
    "## Correlational Score\n",
    "\n",
    "- The metric uses the absolute error of the auto-correlation estimator by real data and synthetic data as the metric to assess the temporal dependency.\n",
    "\n",
    "- For d > 1, it uses the l1-norm of the difference between cross correlation matrices."
   ]
  },
  {
   "cell_type": "code",
   "execution_count": 97,
   "metadata": {},
   "outputs": [],
   "source": [
    "def random_choice(size, num_select=100):\n",
    "    select_idx = np.random.randint(low=0, high=size, size=(num_select,))\n",
    "    return select_idx"
   ]
  },
  {
   "cell_type": "code",
   "execution_count": 98,
   "metadata": {},
   "outputs": [
    {
     "name": "stdout",
     "output_type": "stream",
     "text": [
      "Iter 0:  cross-correlation = 0.04456676663024166 \n",
      "\n",
      "Iter 1:  cross-correlation = 0.12883055702788038 \n",
      "\n",
      "Iter 2:  cross-correlation = 0.03844941734121404 \n",
      "\n",
      "Iter 3:  cross-correlation = 0.054913686903842754 \n",
      "\n",
      "Iter 4:  cross-correlation = 0.02946730229623249 \n",
      "\n",
      "Final Score:  0.05924554603988227 ± 0.049649204998748836\n"
     ]
    }
   ],
   "source": [
    "x_real = torch.from_numpy(ori_data)\n",
    "x_fake = torch.from_numpy(fake_data)\n",
    "\n",
    "correlational_score = []\n",
    "size = int(x_real.shape[0] / iterations)\n",
    "\n",
    "for i in range(iterations):\n",
    "    real_idx = random_choice(x_real.shape[0], size)\n",
    "    fake_idx = random_choice(x_fake.shape[0], size)\n",
    "    corr = CrossCorrelLoss(x_real[real_idx, :, :], name='CrossCorrelLoss')\n",
    "    loss = corr.compute(x_fake[fake_idx, :, :])\n",
    "    correlational_score.append(loss.item())\n",
    "    print(f'Iter {i}: ', 'cross-correlation =', loss.item(), '\\n')\n",
    "\n",
    "display_scores(correlational_score)"
   ]
  }
 ],
 "metadata": {
  "kernelspec": {
   "display_name": "STDiffusion",
   "language": "python",
   "name": "python3"
  },
  "language_info": {
   "codemirror_mode": {
    "name": "ipython",
    "version": 3
   },
   "file_extension": ".py",
   "mimetype": "text/x-python",
   "name": "python",
   "nbconvert_exporter": "python",
   "pygments_lexer": "ipython3",
   "version": "3.8.19"
  }
 },
 "nbformat": 4,
 "nbformat_minor": 2
}
